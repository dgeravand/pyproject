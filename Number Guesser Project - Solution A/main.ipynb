{
 "cells": [
  {
   "cell_type": "code",
   "execution_count": 1,
   "metadata": {},
   "outputs": [
    {
     "name": "stdout",
     "output_type": "stream",
     "text": [
      "test\n"
     ]
    }
   ],
   "source": [
    "print('test')"
   ]
  },
  {
   "cell_type": "code",
   "execution_count": 2,
   "metadata": {},
   "outputs": [],
   "source": [
    "import random"
   ]
  },
  {
   "cell_type": "code",
   "execution_count": 14,
   "metadata": {},
   "outputs": [
    {
     "data": {
      "text/plain": [
       "14"
      ]
     },
     "execution_count": 14,
     "metadata": {},
     "output_type": "execute_result"
    }
   ],
   "source": [
    "int(random.random() * 100 + 1)"
   ]
  },
  {
   "cell_type": "code",
   "execution_count": 21,
   "metadata": {},
   "outputs": [],
   "source": [
    "rand_num = random.randint(0,100)"
   ]
  },
  {
   "cell_type": "code",
   "execution_count": 25,
   "metadata": {},
   "outputs": [
    {
     "data": {
      "text/plain": [
       "75"
      ]
     },
     "execution_count": 25,
     "metadata": {},
     "output_type": "execute_result"
    }
   ],
   "source": [
    "rand_num"
   ]
  },
  {
   "cell_type": "code",
   "execution_count": 26,
   "metadata": {},
   "outputs": [],
   "source": [
    "user_guess = input(\"Guess a number between 1 and 100\")"
   ]
  },
  {
   "cell_type": "markdown",
   "metadata": {},
   "source": [
    "- 1 < user_guess < 100\n",
    "- > 100\n",
    "- < 100\n",
    "- q\n",
    "- non digit\n"
   ]
  },
  {
   "cell_type": "code",
   "execution_count": 30,
   "metadata": {},
   "outputs": [],
   "source": [
    "if user_guess == 'q':\n",
    "    pass\n",
    "elif not user_guess.isdigit():\n",
    "    pass\n",
    "else:\n",
    "    user_guess = int(user_guess)\n",
    "\n"
   ]
  },
  {
   "cell_type": "code",
   "execution_count": 41,
   "metadata": {},
   "outputs": [],
   "source": [
    "def validate_input (user_guess):\n",
    "    if not user_guess.isdigit():\n",
    "        print('Invalid input, please try agian.')\n",
    "        return False\n",
    "    \n",
    "    user_guess = int(user_guess)\n",
    "    if user_guess > 100 or user_guess < 1:\n",
    "        print (\"your guess is out of range. please try agian. your guess shoud be between 1 and 100\")\n",
    "        return False\n",
    "    \n",
    "    return True\n",
    "    "
   ]
  },
  {
   "cell_type": "code",
   "execution_count": 42,
   "metadata": {},
   "outputs": [
    {
     "name": "stdout",
     "output_type": "stream",
     "text": [
      "your guess is too low, please try again\n",
      "your guess is too low, please try again\n",
      "your guess is too high, please try again\n",
      "Invalid input, please try agian.\n",
      "your guess is out of range. please try agian. your guess shoud be between 1 and 100\n",
      "your guess is too high, please try again\n",
      "your guess is too high, please try again\n",
      "congratulations, your score is 95, you guessed the correct number\n"
     ]
    }
   ],
   "source": [
    "score = 100\n",
    "while True:\n",
    "    user_guess = input(\"Guess a number between 1 and 100\")\n",
    "    if user_guess == 'q':\n",
    "        print('Thank you for playing. goodbye!')\n",
    "        break\n",
    "    if not validate_input(user_guess):\n",
    "        continue\n",
    "\n",
    "    user_guess = int(user_guess)\n",
    "    if rand_num > user_guess:\n",
    "        print('your guess is too low, please try again')\n",
    "        score -=1\n",
    "    elif rand_num < user_guess:\n",
    "        print('your guess is too high, please try again')\n",
    "        score -=1\n",
    "    else: \n",
    "        score = max(score,0)\n",
    "        print(f'congratulations, your score is {score}, you guessed the correct number')\n",
    "        break\n",
    "\n"
   ]
  },
  {
   "cell_type": "code",
   "execution_count": null,
   "metadata": {},
   "outputs": [],
   "source": []
  }
 ],
 "metadata": {
  "kernelspec": {
   "display_name": "pyproject312",
   "language": "python",
   "name": "python3"
  },
  "language_info": {
   "codemirror_mode": {
    "name": "ipython",
    "version": 3
   },
   "file_extension": ".py",
   "mimetype": "text/x-python",
   "name": "python",
   "nbconvert_exporter": "python",
   "pygments_lexer": "ipython3",
   "version": "3.12.0"
  }
 },
 "nbformat": 4,
 "nbformat_minor": 2
}
